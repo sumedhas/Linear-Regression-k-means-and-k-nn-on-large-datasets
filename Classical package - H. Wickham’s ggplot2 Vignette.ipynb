{
 "cells": [
  {
   "cell_type": "markdown",
   "metadata": {},
   "source": [
    "# Classical package: H. Wickham’s ggplot2 Vignette"
   ]
  },
  {
   "cell_type": "markdown",
   "metadata": {},
   "source": [
    "<h6>Working on Housing Prices</h6>"
   ]
  },
  {
   "cell_type": "code",
   "execution_count": null,
   "metadata": {
    "collapsed": false
   },
   "outputs": [],
   "source": [
    "housing <- read.csv(\"landdata-states.csv\")\n",
    "head(housing[1:5])"
   ]
  },
  {
   "cell_type": "markdown",
   "metadata": {},
   "source": [
    "<h6>Base graphics histogram example:</h6>"
   ]
  },
  {
   "cell_type": "code",
   "execution_count": null,
   "metadata": {
    "collapsed": false
   },
   "outputs": [],
   "source": [
    "hist(housing$Home.Value)"
   ]
  },
  {
   "cell_type": "markdown",
   "metadata": {},
   "source": [
    "<h6>ggplot2 histogram example:</h6>"
   ]
  },
  {
   "cell_type": "code",
   "execution_count": null,
   "metadata": {
    "collapsed": false
   },
   "outputs": [],
   "source": [
    "library(ggplot2)\n",
    "library(scales)\n",
    "ggplot(housing, aes(x = Home.Value)) + geom_histogram()"
   ]
  },
  {
   "cell_type": "markdown",
   "metadata": {},
   "source": [
    "<h6>Base colored scatter plot example:</h6>"
   ]
  },
  {
   "cell_type": "code",
   "execution_count": null,
   "metadata": {
    "collapsed": false
   },
   "outputs": [],
   "source": [
    "plot(Home.Value ~ Date, data=subset(housing, State == \"MA\"))\n",
    "points(Home.Value ~ Date, col=\"red\", data=subset(housing, State == \"TX\"))\n",
    "legend(1975, 400000, c(\"MA\", \"TX\"), title=\"State\", col=c(\"black\", \"red\"), pch=c(1, 1))"
   ]
  },
  {
   "cell_type": "markdown",
   "metadata": {},
   "source": [
    "<h6>ggplot2 colored scatter plot example:</h6>"
   ]
  },
  {
   "cell_type": "code",
   "execution_count": null,
   "metadata": {
    "collapsed": false
   },
   "outputs": [],
   "source": [
    "ggplot(subset(housing, State %in% c(\"MA\", \"TX\")), aes(x=Date, y=Home.Value, color=State))+ geom_point()"
   ]
  },
  {
   "cell_type": "markdown",
   "metadata": {},
   "source": [
    "# Geometric Objects And Aesthetics"
   ]
  },
  {
   "cell_type": "markdown",
   "metadata": {},
   "source": [
    "<h5>Points (Scatterplot)</h5>"
   ]
  },
  {
   "cell_type": "code",
   "execution_count": null,
   "metadata": {
    "collapsed": false
   },
   "outputs": [],
   "source": [
    "hp2001Q1 <- subset(housing, Date == 2001.25) \n",
    "ggplot(hp2001Q1, aes(y = Structure.Cost, x = Land.Value)) + geom_point()"
   ]
  },
  {
   "cell_type": "code",
   "execution_count": null,
   "metadata": {
    "collapsed": false
   },
   "outputs": [],
   "source": [
    "ggplot(hp2001Q1, aes(y = Structure.Cost, x = log(Land.Value))) + geom_point()"
   ]
  },
  {
   "cell_type": "markdown",
   "metadata": {},
   "source": [
    "<h6>Lines (Prediction Line)</h6>"
   ]
  },
  {
   "cell_type": "code",
   "execution_count": null,
   "metadata": {
    "collapsed": false
   },
   "outputs": [],
   "source": [
    "hp2001Q1$pred.SC <- predict(lm(Structure.Cost ~ log(Land.Value), data = hp2001Q1))\n",
    "p1 <- ggplot(hp2001Q1, aes(x = log(Land.Value), y = Structure.Cost))\n",
    "p1 + geom_point(aes(color = Home.Value)) + geom_line(aes(y = pred.SC))"
   ]
  },
  {
   "cell_type": "markdown",
   "metadata": {},
   "source": [
    "<h6>Smoothers</h6>"
   ]
  },
  {
   "cell_type": "code",
   "execution_count": null,
   "metadata": {
    "collapsed": false
   },
   "outputs": [],
   "source": [
    "p1 + geom_point(aes(color = Home.Value)) + geom_smooth()"
   ]
  },
  {
   "cell_type": "markdown",
   "metadata": {},
   "source": [
    "<h6>Text (Label Points)</h6>"
   ]
  },
  {
   "cell_type": "code",
   "execution_count": null,
   "metadata": {
    "collapsed": false
   },
   "outputs": [],
   "source": [
    "p1 + geom_text(aes(label=State), size = 3)"
   ]
  },
  {
   "cell_type": "code",
   "execution_count": null,
   "metadata": {
    "collapsed": false
   },
   "outputs": [],
   "source": [
    "library(\"ggrepel\")\n",
    "p1 + geom_point() + geom_text_repel(aes(label=State), size = 3)"
   ]
  },
  {
   "cell_type": "markdown",
   "metadata": {},
   "source": [
    "<h6>Aesthetic Mapping VS Assignment</h6>"
   ]
  },
  {
   "cell_type": "code",
   "execution_count": null,
   "metadata": {
    "collapsed": false
   },
   "outputs": [],
   "source": [
    "p1 + geom_point(aes(size = 2),# incorrect! 2 is not a variable\n",
    "             color=\"red\") # this is fine -- all points red"
   ]
  },
  {
   "cell_type": "markdown",
   "metadata": {},
   "source": [
    "<h6>Mapping Variables To Other Aesthetics</h6>"
   ]
  },
  {
   "cell_type": "code",
   "execution_count": null,
   "metadata": {
    "collapsed": false
   },
   "outputs": [],
   "source": [
    "p1 + geom_point(aes(color=Home.Value, shape = region))"
   ]
  },
  {
   "cell_type": "code",
   "execution_count": null,
   "metadata": {
    "collapsed": false
   },
   "outputs": [],
   "source": [
    "dat <- read.csv(\"Rgraphics/dataSets/EconomistData.csv\")\n",
    "head(dat)\n",
    "ggplot(dat, aes(x = CPI, y = HDI, size = HDI.Rank)) + geom_point()"
   ]
  },
  {
   "cell_type": "markdown",
   "metadata": {},
   "source": [
    "# Statistical Transformations"
   ]
  },
  {
   "cell_type": "code",
   "execution_count": null,
   "metadata": {
    "collapsed": false
   },
   "outputs": [],
   "source": [
    "args(geom_histogram)\n",
    "args(stat_bin)"
   ]
  },
  {
   "cell_type": "markdown",
   "metadata": {},
   "source": [
    "<h6>Setting Statistical Transformation Arguments</h6>"
   ]
  },
  {
   "cell_type": "code",
   "execution_count": null,
   "metadata": {
    "collapsed": false
   },
   "outputs": [],
   "source": [
    "p2 <- ggplot(housing, aes(x = Home.Value))\n",
    "p2 + geom_histogram()"
   ]
  },
  {
   "cell_type": "code",
   "execution_count": null,
   "metadata": {
    "collapsed": false
   },
   "outputs": [],
   "source": [
    "p2 + geom_histogram(stat = \"bin\", binwidth=4000)"
   ]
  },
  {
   "cell_type": "markdown",
   "metadata": {},
   "source": [
    "<h6>Changing The Statistical Transformation</h6>"
   ]
  },
  {
   "cell_type": "code",
   "execution_count": null,
   "metadata": {
    "collapsed": false
   },
   "outputs": [],
   "source": [
    "housing.sum <- aggregate(housing[\"Home.Value\"], housing[\"State\"], FUN=mean)\n",
    "rbind(head(housing.sum), tail(housing.sum))"
   ]
  },
  {
   "cell_type": "code",
   "execution_count": null,
   "metadata": {
    "collapsed": false
   },
   "outputs": [],
   "source": [
    "ggplot(housing.sum, aes(x=State, y=Home.Value)) + geom_bar(stat=\"identity\")"
   ]
  },
  {
   "cell_type": "markdown",
   "metadata": {},
   "source": [
    "# Scales"
   ]
  },
  {
   "cell_type": "markdown",
   "metadata": {},
   "source": [
    "<h6>Scale Modification Examples</h6>"
   ]
  },
  {
   "cell_type": "code",
   "execution_count": null,
   "metadata": {
    "collapsed": false
   },
   "outputs": [],
   "source": [
    "p3 <- ggplot(housing, aes(x = State, y = Home.Price.Index)) + theme(legend.position=\"top\", axis.text=element_text(size = 6))\n",
    "(p4 <- p3 + geom_point(aes(color = Date), alpha = 0.5, size = 1.5,  position = position_jitter(width = 0.25, height = 0)))"
   ]
  },
  {
   "cell_type": "code",
   "execution_count": null,
   "metadata": {
    "collapsed": false
   },
   "outputs": [],
   "source": [
    "p4 + scale_x_discrete(name=\"State Abbreviation\") +\n",
    "  scale_color_continuous(name=\"\", breaks = c(1976, 1994, 2013),labels = c(\"'76\", \"'94\", \"'13\"))"
   ]
  },
  {
   "cell_type": "code",
   "execution_count": null,
   "metadata": {
    "collapsed": true
   },
   "outputs": [],
   "source": [
    "p4 +\n",
    "  scale_x_discrete(name=\"State Abbreviation\") +\n",
    "  scale_color_continuous(name=\"\", breaks = c(1976, 1994, 2013), labels = c(\"'76\", \"'94\", \"'13\"), low = \"blue\", high = \"red\")"
   ]
  },
  {
   "cell_type": "code",
   "execution_count": null,
   "metadata": {
    "collapsed": false
   },
   "outputs": [],
   "source": [
    "p4 +\n",
    "  scale_color_continuous(name=\"\", breaks = c(1976, 1994, 2013), labels = c(\"'76\", \"'94\", \"'13\"), low = muted(\"blue\"), high = muted(\"red\"))"
   ]
  },
  {
   "cell_type": "markdown",
   "metadata": {},
   "source": [
    "<h6>Using different color scales</h6>"
   ]
  },
  {
   "cell_type": "code",
   "execution_count": null,
   "metadata": {
    "collapsed": false
   },
   "outputs": [],
   "source": [
    "p4 +\n",
    "  scale_color_gradient2(name=\"\", breaks = c(1976, 1994, 2013), labels = c(\"'76\", \"'94\", \"'13\"), low = muted(\"blue\"),\n",
    "high = muted(\"red\"), mid = \"gray60\", midpoint = 1994)"
   ]
  },
  {
   "cell_type": "markdown",
   "metadata": {},
   "source": [
    "# Faceting"
   ]
  },
  {
   "cell_type": "code",
   "execution_count": null,
   "metadata": {
    "collapsed": false
   },
   "outputs": [],
   "source": [
    "p5 <- ggplot(housing, aes(x = Date, y = Home.Value))\n",
    "p5 + geom_line(aes(color = State))"
   ]
  },
  {
   "cell_type": "code",
   "execution_count": null,
   "metadata": {
    "collapsed": false,
    "scrolled": true
   },
   "outputs": [],
   "source": [
    "(p5 <- p5 + geom_line() + facet_wrap(~State, ncol = 10))"
   ]
  },
  {
   "cell_type": "markdown",
   "metadata": {},
   "source": [
    "# Themes"
   ]
  },
  {
   "cell_type": "code",
   "execution_count": null,
   "metadata": {
    "collapsed": false
   },
   "outputs": [],
   "source": [
    "p5 + theme_linedraw()"
   ]
  },
  {
   "cell_type": "code",
   "execution_count": null,
   "metadata": {
    "collapsed": false
   },
   "outputs": [],
   "source": [
    "p5 + theme_light()"
   ]
  },
  {
   "cell_type": "markdown",
   "metadata": {},
   "source": [
    "<h6>Overriding theme defaults</h6>"
   ]
  },
  {
   "cell_type": "code",
   "execution_count": null,
   "metadata": {
    "collapsed": false
   },
   "outputs": [],
   "source": [
    "p5 + theme_minimal() + theme(text = element_text(color = \"turquoise\"))"
   ]
  },
  {
   "cell_type": "markdown",
   "metadata": {},
   "source": [
    "<h6>Creating and saving new themes</h6>"
   ]
  },
  {
   "cell_type": "code",
   "execution_count": null,
   "metadata": {
    "collapsed": false,
    "scrolled": true
   },
   "outputs": [],
   "source": [
    "theme_new <- theme_bw() +\n",
    "  theme(plot.background = element_rect(size = 1, color = \"blue\", fill = \"black\"),\n",
    "        text=element_text(size = 12, family = \"Serif\", color = \"ivory\"),\n",
    "        axis.text.y = element_text(colour = \"purple\"),\n",
    "        axis.text.x = element_text(colour = \"red\"),\n",
    "        panel.background = element_rect(fill = \"pink\"),\n",
    "        strip.background = element_rect(fill = muted(\"orange\")))\n",
    "\n",
    "p5 + theme_new"
   ]
  },
  {
   "cell_type": "markdown",
   "metadata": {},
   "source": [
    "<h6>Map Aesthetic To Different Columns</h6>"
   ]
  },
  {
   "cell_type": "code",
   "execution_count": null,
   "metadata": {
    "collapsed": false
   },
   "outputs": [],
   "source": [
    "library(tidyr)\n",
    "housing.byyear <- aggregate(cbind(Home.Value, Land.Value) ~ Date, data = housing, mean)\n",
    "home.land.byyear <- gather(housing.byyear, value = \"value\", key = \"type\", Home.Value, Land.Value)\n",
    "ggplot(home.land.byyear, aes(x=Date, y=value, color=type)) + geom_line()"
   ]
  }
 ],
 "metadata": {
  "kernelspec": {
   "display_name": "R",
   "language": "R",
   "name": "ir"
  },
  "language_info": {
   "codemirror_mode": "r",
   "file_extension": ".r",
   "mimetype": "text/x-r-source",
   "name": "R",
   "pygments_lexer": "r",
   "version": "3.3.2"
  }
 },
 "nbformat": 4,
 "nbformat_minor": 2
}
